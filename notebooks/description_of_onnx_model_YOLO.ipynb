{
 "cells": [
  {
   "cell_type": "markdown",
   "id": "e2bff7aa-b3d8-44f4-bdcc-51da8ce6d258",
   "metadata": {},
   "source": [
    "<img src=\"https://github.com/RadimKozl/OpenCV_Project4/blob/832738cf629a0d6518297f860fd1952e3eaa3143/notebooks/img/OpenCV_logo.png\" alt=\"OpenCV logo\" style=\"width: 200px;\"/>"
   ]
  },
  {
   "cell_type": "markdown",
   "id": "3a01facc-a52e-4dc1-a6ad-06dc073edb8e",
   "metadata": {},
   "source": [
    "###### <font size=\"10\">YOLO models, base properties</font>"
   ]
  },
  {
   "cell_type": "markdown",
   "id": "12cb3ec3-f433-44a3-a5f7-40207638cd66",
   "metadata": {},
   "source": [
    "# Introduction\n",
    "\n",
    "In this notebook, we will describe the basic properties of trained onnx models."
   ]
  },
  {
   "cell_type": "markdown",
   "id": "d85f466d-4c47-4b12-b656-d7703ed0861f",
   "metadata": {},
   "source": [
    "# Housekeeping"
   ]
  },
  {
   "cell_type": "code",
   "execution_count": 1,
   "id": "ebd5aef8-40a3-480f-9b87-9fcf9b41ec49",
   "metadata": {},
   "outputs": [],
   "source": [
    "# !pip install opencv-python\n",
    "# !pip install opencv-contrib-python\n",
    "# !pip install opencv-python-headless\n",
    "# !pip install opencv-contrib-python-headless\n",
    "# !pip install ultralytics\n",
    "# !pip install pillow\n",
    "# !pip install onnx\n",
    "# !pip install onnxruntime "
   ]
  },
  {
   "cell_type": "code",
   "execution_count": 2,
   "id": "c75a3a90-c103-4f7f-81ea-c97ae91d7686",
   "metadata": {},
   "outputs": [],
   "source": [
    "import os\n",
    "os.chdir('C:\\\\Users\\\\kozl\\\\ITProjects\\\\DataScienciPython\\\\data_science_python_training\\\\lessons\\\\OpenCV\\\\lesson26\\\\coursework\\\\notebooks')"
   ]
  },
  {
   "cell_type": "code",
   "execution_count": 3,
   "id": "1e3427ab-8bc3-4b0c-8ad3-ff2be902182e",
   "metadata": {},
   "outputs": [],
   "source": [
    "import cv2, sys, os, csv\n",
    "\n",
    "import numpy as np\n",
    "import pandas as pd\n",
    "import matplotlib\n",
    "import matplotlib.pyplot as plt\n",
    "from pathlib import Path\n",
    "\n",
    "import pickle\n",
    "\n",
    "from dataPath import MODEL_PATH, IMAGES_PATH, RESULTS_PATH, PICKLE_PATH\n",
    "\n",
    "from ultralytics import YOLO\n",
    "from PIL import Image, ImageDraw, ImageFont\n",
    "import onnxruntime as ort\n",
    "from IPython.display import display\n",
    "\n",
    "import ipywidgets as widgets\n",
    "from ipywidgets import interact, interactive, fixed, interact_manual, IntSlider, Output\n",
    "from ipywidgets.widgets.interaction import interactive\n",
    "from IPython.display import display\n",
    "\n",
    "%matplotlib inline"
   ]
  },
  {
   "cell_type": "code",
   "execution_count": 4,
   "id": "73e52b85-a5e6-4b25-a7b1-a09206a6df50",
   "metadata": {},
   "outputs": [],
   "source": [
    "matplotlib.rcParams['figure.figsize'] = (8.0,8.0)\n",
    "matplotlib.rcParams['image.cmap'] = 'gray'\n",
    "matplotlib.rcParams['image.interpolation'] = 'bilinear'"
   ]
  },
  {
   "cell_type": "markdown",
   "id": "da8b5599-4a53-4f6f-ab01-093749b607e6",
   "metadata": {},
   "source": [
    "### ***Defining the necessary paths***"
   ]
  },
  {
   "cell_type": "code",
   "execution_count": 5,
   "id": "d0dc0944-7c2c-470d-9ab9-340a9208b21a",
   "metadata": {},
   "outputs": [],
   "source": [
    "# path to the model YOLO\n",
    "path_model_dir = os.path.join(MODEL_PATH, 'onnx')\n",
    "# path to the *.pt files of models\n",
    "path_pt_dir = os.path.join(MODEL_PATH, 'pt')\n",
    "# path directory for load test images\n",
    "path_images_dir = os.path.join(IMAGES_PATH, 'test_images')"
   ]
  },
  {
   "cell_type": "markdown",
   "id": "7e3e4935-1050-4d2f-88a3-371b82b0fbc2",
   "metadata": {},
   "source": [
    "### ***Loading ONNX models***"
   ]
  },
  {
   "cell_type": "code",
   "execution_count": 6,
   "id": "db4c6d5f-dfce-45b5-af45-d49594b861a7",
   "metadata": {},
   "outputs": [],
   "source": [
    "def load_onnx(path_dir):\n",
    "    list_files = os.listdir(path_dir)\n",
    "    list_onnx_files = [file for file in list_files if os.path.isfile(os.path.join(path_dir, file)) and file.endswith('.onnx')]\n",
    "    file_paths = []\n",
    "    for file in list_onnx_files:\n",
    "        path = os.path.join(path_dir, file)\n",
    "        file_paths.append(path)\n",
    "    \n",
    "    return file_paths"
   ]
  },
  {
   "cell_type": "code",
   "execution_count": 7,
   "id": "8147dbbb-7eec-49af-b4b6-e7031451119d",
   "metadata": {},
   "outputs": [
    {
     "data": {
      "text/plain": [
       "['..\\\\data\\\\models\\\\onnx\\\\YOLOv10m_FMD_01.onnx',\n",
       " '..\\\\data\\\\models\\\\onnx\\\\YOLOv10m_FMD_02.onnx',\n",
       " '..\\\\data\\\\models\\\\onnx\\\\YOLOv5m_FMD.onnx',\n",
       " '..\\\\data\\\\models\\\\onnx\\\\YOLOv6m_FMD_01.onnx',\n",
       " '..\\\\data\\\\models\\\\onnx\\\\YOLOv6m_FMD_02.onnx',\n",
       " '..\\\\data\\\\models\\\\onnx\\\\YOLOv7_FMD_01.onnx',\n",
       " '..\\\\data\\\\models\\\\onnx\\\\YOLOv7_FMD_02.onnx',\n",
       " '..\\\\data\\\\models\\\\onnx\\\\YOLOv7_FMD_03.onnx',\n",
       " '..\\\\data\\\\models\\\\onnx\\\\YOLOv8m_FMD.onnx',\n",
       " '..\\\\data\\\\models\\\\onnx\\\\YOLOv9m_FMD.onnx']"
      ]
     },
     "execution_count": 7,
     "metadata": {},
     "output_type": "execute_result"
    }
   ],
   "source": [
    "list_onnx_files = load_onnx(path_model_dir)\n",
    "list_onnx_files"
   ]
  },
  {
   "cell_type": "code",
   "execution_count": 8,
   "id": "80b11019-8e25-44e7-90a7-21875f9f86f2",
   "metadata": {},
   "outputs": [],
   "source": [
    "model_properties = {}"
   ]
  },
  {
   "cell_type": "code",
   "execution_count": 9,
   "id": "1520f34b-fe08-4814-9cbc-f930006ba8bf",
   "metadata": {},
   "outputs": [],
   "source": [
    "# Python code to merge dict \n",
    "def Merge(dict1, dict2, dict3):\n",
    "    res_sub = {**dict1, **dict2}\n",
    "    res = {**res_sub, **dict3}\n",
    "    return res"
   ]
  },
  {
   "cell_type": "code",
   "execution_count": 10,
   "id": "974c75d6-d07a-4370-8b73-ad02d07fc513",
   "metadata": {},
   "outputs": [],
   "source": [
    "for file in list_onnx_files:\n",
    "    name_model_file = os.path.split(file)[1]\n",
    "    name = name_model_file.split('.')[0]\n",
    "    suffix = name_model_file.split('.')[1]\n",
    "    bite_size = Path(file).stat().st_size\n",
    "\n",
    "    properties_dict = {\n",
    "        'Suffix': suffix, \n",
    "        'Bite_size (KB)': float(bite_size/1024)\n",
    "    }\n",
    "    \n",
    "    # Load the exported ONNX model\n",
    "    model = ort.InferenceSession(file, providers=['CPUExecutionProvider'])\n",
    "\n",
    "    # Read inputs of model\n",
    "    inputs = model.get_inputs();\n",
    "    input = inputs[0]\n",
    "    inputs_dict = {\n",
    "        'Inputs_number': len(inputs),\n",
    "        'Input_name': input.name,\n",
    "        'Input_type': input.type,\n",
    "        'Input_shape': input.shape\n",
    "    }\n",
    "\n",
    "    # Read outputs of model\n",
    "    outputs = model.get_outputs()\n",
    "    output = outputs[0]\n",
    "    output_dict = {\n",
    "        'Output_number': len(outputs),\n",
    "        'Output_name': output.name,\n",
    "        'Output_type': output.type,\n",
    "        'Output_shape': output.shape\n",
    "    }\n",
    "\n",
    "    all_data = Merge(properties_dict, inputs_dict, output_dict)\n",
    "    model_properties[name] = all_data"
   ]
  },
  {
   "cell_type": "code",
   "execution_count": 11,
   "id": "faee7c99-3135-4b1d-b1e5-e4177ff2494a",
   "metadata": {},
   "outputs": [],
   "source": [
    "#model_properties"
   ]
  },
  {
   "cell_type": "code",
   "execution_count": 12,
   "id": "20457d4d-3cf3-404c-8fb0-bb61671abb46",
   "metadata": {},
   "outputs": [
    {
     "data": {
      "text/html": [
       "<div>\n",
       "<style scoped>\n",
       "    .dataframe tbody tr th:only-of-type {\n",
       "        vertical-align: middle;\n",
       "    }\n",
       "\n",
       "    .dataframe tbody tr th {\n",
       "        vertical-align: top;\n",
       "    }\n",
       "\n",
       "    .dataframe thead th {\n",
       "        text-align: right;\n",
       "    }\n",
       "</style>\n",
       "<table border=\"1\" class=\"dataframe\">\n",
       "  <thead>\n",
       "    <tr style=\"text-align: right;\">\n",
       "      <th></th>\n",
       "      <th>Suffix</th>\n",
       "      <th>Bite_size (KB)</th>\n",
       "      <th>Inputs_number</th>\n",
       "      <th>Input_name</th>\n",
       "      <th>Input_type</th>\n",
       "      <th>Input_shape</th>\n",
       "      <th>Output_number</th>\n",
       "      <th>Output_name</th>\n",
       "      <th>Output_type</th>\n",
       "      <th>Output_shape</th>\n",
       "    </tr>\n",
       "  </thead>\n",
       "  <tbody>\n",
       "    <tr>\n",
       "      <th>YOLOv10m_FMD_01</th>\n",
       "      <td>onnx</td>\n",
       "      <td>60078.87793</td>\n",
       "      <td>1</td>\n",
       "      <td>images</td>\n",
       "      <td>tensor(float)</td>\n",
       "      <td>[1, 3, 640, 640]</td>\n",
       "      <td>1</td>\n",
       "      <td>output0</td>\n",
       "      <td>tensor(float)</td>\n",
       "      <td>[1, 300, 6]</td>\n",
       "    </tr>\n",
       "    <tr>\n",
       "      <th>YOLOv10m_FMD_02</th>\n",
       "      <td>onnx</td>\n",
       "      <td>67443.135742</td>\n",
       "      <td>1</td>\n",
       "      <td>input</td>\n",
       "      <td>tensor(float)</td>\n",
       "      <td>[1, 3, 640, 640]</td>\n",
       "      <td>7</td>\n",
       "      <td>output</td>\n",
       "      <td>tensor(float)</td>\n",
       "      <td>[1, 300, 6]</td>\n",
       "    </tr>\n",
       "    <tr>\n",
       "      <th>YOLOv5m_FMD</th>\n",
       "      <td>onnx</td>\n",
       "      <td>98067.397461</td>\n",
       "      <td>1</td>\n",
       "      <td>images</td>\n",
       "      <td>tensor(float)</td>\n",
       "      <td>[1, 3, 640, 640]</td>\n",
       "      <td>1</td>\n",
       "      <td>output0</td>\n",
       "      <td>tensor(float)</td>\n",
       "      <td>[1, 6, 8400]</td>\n",
       "    </tr>\n",
       "    <tr>\n",
       "      <th>YOLOv6m_FMD_01</th>\n",
       "      <td>onnx</td>\n",
       "      <td>310845.573242</td>\n",
       "      <td>1</td>\n",
       "      <td>images</td>\n",
       "      <td>tensor(float)</td>\n",
       "      <td>[1, 3, 640, 640]</td>\n",
       "      <td>1</td>\n",
       "      <td>outputs</td>\n",
       "      <td>tensor(float)</td>\n",
       "      <td>[1, 8500, 7]</td>\n",
       "    </tr>\n",
       "    <tr>\n",
       "      <th>YOLOv6m_FMD_02</th>\n",
       "      <td>onnx</td>\n",
       "      <td>337215.750977</td>\n",
       "      <td>1</td>\n",
       "      <td>input</td>\n",
       "      <td>tensor(float)</td>\n",
       "      <td>[1, 3, 640, 640]</td>\n",
       "      <td>1</td>\n",
       "      <td>output</td>\n",
       "      <td>tensor(float)</td>\n",
       "      <td>[1, 8500, 7]</td>\n",
       "    </tr>\n",
       "    <tr>\n",
       "      <th>YOLOv7_FMD_01</th>\n",
       "      <td>onnx</td>\n",
       "      <td>142643.126953</td>\n",
       "      <td>1</td>\n",
       "      <td>images</td>\n",
       "      <td>tensor(float)</td>\n",
       "      <td>[1, 3, 640, 640]</td>\n",
       "      <td>4</td>\n",
       "      <td>output0</td>\n",
       "      <td>tensor(float)</td>\n",
       "      <td>[1, 25200, 7]</td>\n",
       "    </tr>\n",
       "    <tr>\n",
       "      <th>YOLOv7_FMD_02</th>\n",
       "      <td>onnx</td>\n",
       "      <td>142572.557617</td>\n",
       "      <td>1</td>\n",
       "      <td>images</td>\n",
       "      <td>tensor(float)</td>\n",
       "      <td>[1, 3, 640, 640]</td>\n",
       "      <td>3</td>\n",
       "      <td>output</td>\n",
       "      <td>tensor(float)</td>\n",
       "      <td>[1, 3, 80, 80, 7]</td>\n",
       "    </tr>\n",
       "    <tr>\n",
       "      <th>YOLOv7_FMD_03</th>\n",
       "      <td>onnx</td>\n",
       "      <td>148011.740234</td>\n",
       "      <td>1</td>\n",
       "      <td>input</td>\n",
       "      <td>tensor(float)</td>\n",
       "      <td>[1, 3, 640, 640]</td>\n",
       "      <td>4</td>\n",
       "      <td>output</td>\n",
       "      <td>tensor(float)</td>\n",
       "      <td>[1, 25200, 7]</td>\n",
       "    </tr>\n",
       "    <tr>\n",
       "      <th>YOLOv8m_FMD</th>\n",
       "      <td>onnx</td>\n",
       "      <td>101163.772461</td>\n",
       "      <td>1</td>\n",
       "      <td>images</td>\n",
       "      <td>tensor(float)</td>\n",
       "      <td>[1, 3, 640, 640]</td>\n",
       "      <td>1</td>\n",
       "      <td>output0</td>\n",
       "      <td>tensor(float)</td>\n",
       "      <td>[1, 6, 8400]</td>\n",
       "    </tr>\n",
       "    <tr>\n",
       "      <th>YOLOv9m_FMD</th>\n",
       "      <td>onnx</td>\n",
       "      <td>78461.026367</td>\n",
       "      <td>1</td>\n",
       "      <td>images</td>\n",
       "      <td>tensor(float)</td>\n",
       "      <td>[1, 3, 640, 640]</td>\n",
       "      <td>1</td>\n",
       "      <td>output0</td>\n",
       "      <td>tensor(float)</td>\n",
       "      <td>[1, 6, 8400]</td>\n",
       "    </tr>\n",
       "  </tbody>\n",
       "</table>\n",
       "</div>"
      ],
      "text/plain": [
       "                Suffix Bite_size (KB) Inputs_number Input_name     Input_type  \\\n",
       "YOLOv10m_FMD_01   onnx    60078.87793             1     images  tensor(float)   \n",
       "YOLOv10m_FMD_02   onnx   67443.135742             1      input  tensor(float)   \n",
       "YOLOv5m_FMD       onnx   98067.397461             1     images  tensor(float)   \n",
       "YOLOv6m_FMD_01    onnx  310845.573242             1     images  tensor(float)   \n",
       "YOLOv6m_FMD_02    onnx  337215.750977             1      input  tensor(float)   \n",
       "YOLOv7_FMD_01     onnx  142643.126953             1     images  tensor(float)   \n",
       "YOLOv7_FMD_02     onnx  142572.557617             1     images  tensor(float)   \n",
       "YOLOv7_FMD_03     onnx  148011.740234             1      input  tensor(float)   \n",
       "YOLOv8m_FMD       onnx  101163.772461             1     images  tensor(float)   \n",
       "YOLOv9m_FMD       onnx   78461.026367             1     images  tensor(float)   \n",
       "\n",
       "                      Input_shape Output_number Output_name    Output_type  \\\n",
       "YOLOv10m_FMD_01  [1, 3, 640, 640]             1     output0  tensor(float)   \n",
       "YOLOv10m_FMD_02  [1, 3, 640, 640]             7      output  tensor(float)   \n",
       "YOLOv5m_FMD      [1, 3, 640, 640]             1     output0  tensor(float)   \n",
       "YOLOv6m_FMD_01   [1, 3, 640, 640]             1     outputs  tensor(float)   \n",
       "YOLOv6m_FMD_02   [1, 3, 640, 640]             1      output  tensor(float)   \n",
       "YOLOv7_FMD_01    [1, 3, 640, 640]             4     output0  tensor(float)   \n",
       "YOLOv7_FMD_02    [1, 3, 640, 640]             3      output  tensor(float)   \n",
       "YOLOv7_FMD_03    [1, 3, 640, 640]             4      output  tensor(float)   \n",
       "YOLOv8m_FMD      [1, 3, 640, 640]             1     output0  tensor(float)   \n",
       "YOLOv9m_FMD      [1, 3, 640, 640]             1     output0  tensor(float)   \n",
       "\n",
       "                      Output_shape  \n",
       "YOLOv10m_FMD_01        [1, 300, 6]  \n",
       "YOLOv10m_FMD_02        [1, 300, 6]  \n",
       "YOLOv5m_FMD           [1, 6, 8400]  \n",
       "YOLOv6m_FMD_01        [1, 8500, 7]  \n",
       "YOLOv6m_FMD_02        [1, 8500, 7]  \n",
       "YOLOv7_FMD_01        [1, 25200, 7]  \n",
       "YOLOv7_FMD_02    [1, 3, 80, 80, 7]  \n",
       "YOLOv7_FMD_03        [1, 25200, 7]  \n",
       "YOLOv8m_FMD           [1, 6, 8400]  \n",
       "YOLOv9m_FMD           [1, 6, 8400]  "
      ]
     },
     "execution_count": 12,
     "metadata": {},
     "output_type": "execute_result"
    }
   ],
   "source": [
    "df_results = pd.DataFrame(model_properties).T\n",
    "df_results "
   ]
  },
  {
   "cell_type": "markdown",
   "id": "a1359c68-eb22-4549-b674-b60b59caacd0",
   "metadata": {},
   "source": [
    "### ***Loading PyTorch models***"
   ]
  },
  {
   "cell_type": "code",
   "execution_count": 13,
   "id": "b9b25826-dbbe-4ea6-ae77-29d8dd0a43a4",
   "metadata": {},
   "outputs": [],
   "source": [
    "def load_pt(path_dir):\n",
    "    list_files = os.listdir(path_dir)\n",
    "    list_pt_files = [file for file in list_files if os.path.isfile(os.path.join(path_dir, file)) and file.endswith('.pt')]\n",
    "    file_paths = []\n",
    "    for file in list_pt_files:\n",
    "        path = os.path.join(path_dir, file)\n",
    "        file_paths.append(path)\n",
    "    \n",
    "    return file_paths"
   ]
  },
  {
   "cell_type": "code",
   "execution_count": 14,
   "id": "5d0f0a86-3dc9-4b7f-8a7d-6e49f8683a85",
   "metadata": {},
   "outputs": [
    {
     "data": {
      "text/plain": [
       "['..\\\\data\\\\models\\\\pt\\\\YOLOv10m_FMD.pt',\n",
       " '..\\\\data\\\\models\\\\pt\\\\YOLOv5m_FMD.pt',\n",
       " '..\\\\data\\\\models\\\\pt\\\\YOLOv6m_FMD.pt',\n",
       " '..\\\\data\\\\models\\\\pt\\\\YOLOv7_FMD.pt',\n",
       " '..\\\\data\\\\models\\\\pt\\\\YOLOv8m_FMD.pt',\n",
       " '..\\\\data\\\\models\\\\pt\\\\YOLOv9m_FMD.pt']"
      ]
     },
     "execution_count": 14,
     "metadata": {},
     "output_type": "execute_result"
    }
   ],
   "source": [
    "list_pt_files = load_pt(path_pt_dir)\n",
    "list_pt_files"
   ]
  },
  {
   "cell_type": "code",
   "execution_count": 15,
   "id": "afdc6672-bee4-4b26-b98b-86030aaa056b",
   "metadata": {},
   "outputs": [],
   "source": [
    "pt_model_properties = {}"
   ]
  },
  {
   "cell_type": "code",
   "execution_count": 16,
   "id": "72f91d20-89c2-4692-a1a1-05a01ed23c57",
   "metadata": {},
   "outputs": [],
   "source": [
    "for file in list_pt_files:\n",
    "    name_model_file = os.path.split(file)[1]\n",
    "    name = name_model_file.split('.')[0]\n",
    "    suffix = name_model_file.split('.')[1]\n",
    "    bite_size = Path(file).stat().st_size\n",
    "\n",
    "    properties_dict = {\n",
    "        'Suffix': suffix, \n",
    "        'Bite_size (KB)': float(bite_size/1024)\n",
    "    }\n",
    "    \n",
    "    pt_model_properties[name] = properties_dict"
   ]
  },
  {
   "cell_type": "code",
   "execution_count": 17,
   "id": "8db57ee9-245e-4d78-87ce-d4a64a0f2335",
   "metadata": {},
   "outputs": [],
   "source": [
    " #pt_model_properties"
   ]
  },
  {
   "cell_type": "code",
   "execution_count": 18,
   "id": "67f8a084-de1f-4c2e-957d-ebd4c44245e0",
   "metadata": {},
   "outputs": [
    {
     "data": {
      "text/html": [
       "<div>\n",
       "<style scoped>\n",
       "    .dataframe tbody tr th:only-of-type {\n",
       "        vertical-align: middle;\n",
       "    }\n",
       "\n",
       "    .dataframe tbody tr th {\n",
       "        vertical-align: top;\n",
       "    }\n",
       "\n",
       "    .dataframe thead th {\n",
       "        text-align: right;\n",
       "    }\n",
       "</style>\n",
       "<table border=\"1\" class=\"dataframe\">\n",
       "  <thead>\n",
       "    <tr style=\"text-align: right;\">\n",
       "      <th></th>\n",
       "      <th>Suffix</th>\n",
       "      <th>Bite_size (KB)</th>\n",
       "    </tr>\n",
       "  </thead>\n",
       "  <tbody>\n",
       "    <tr>\n",
       "      <th>YOLOv10m_FMD</th>\n",
       "      <td>pt</td>\n",
       "      <td>32680.991211</td>\n",
       "    </tr>\n",
       "    <tr>\n",
       "      <th>YOLOv5m_FMD</th>\n",
       "      <td>pt</td>\n",
       "      <td>49304.100586</td>\n",
       "    </tr>\n",
       "    <tr>\n",
       "      <th>YOLOv6m_FMD</th>\n",
       "      <td>pt</td>\n",
       "      <td>167715.404297</td>\n",
       "    </tr>\n",
       "    <tr>\n",
       "      <th>YOLOv7_FMD</th>\n",
       "      <td>pt</td>\n",
       "      <td>73044.056641</td>\n",
       "    </tr>\n",
       "    <tr>\n",
       "      <th>YOLOv8m_FMD</th>\n",
       "      <td>pt</td>\n",
       "      <td>50796.760742</td>\n",
       "    </tr>\n",
       "    <tr>\n",
       "      <th>YOLOv9m_FMD</th>\n",
       "      <td>pt</td>\n",
       "      <td>39861.838867</td>\n",
       "    </tr>\n",
       "  </tbody>\n",
       "</table>\n",
       "</div>"
      ],
      "text/plain": [
       "             Suffix Bite_size (KB)\n",
       "YOLOv10m_FMD     pt   32680.991211\n",
       "YOLOv5m_FMD      pt   49304.100586\n",
       "YOLOv6m_FMD      pt  167715.404297\n",
       "YOLOv7_FMD       pt   73044.056641\n",
       "YOLOv8m_FMD      pt   50796.760742\n",
       "YOLOv9m_FMD      pt   39861.838867"
      ]
     },
     "execution_count": 18,
     "metadata": {},
     "output_type": "execute_result"
    }
   ],
   "source": [
    "df_pt_results = pd.DataFrame(pt_model_properties).T\n",
    "df_pt_results"
   ]
  },
  {
   "cell_type": "code",
   "execution_count": null,
   "id": "6984d7ea-43bd-4a49-aa27-db1cae35d288",
   "metadata": {},
   "outputs": [],
   "source": []
  }
 ],
 "metadata": {
  "kernelspec": {
   "display_name": "Python 3 (ipykernel)",
   "language": "python",
   "name": "python3"
  },
  "language_info": {
   "codemirror_mode": {
    "name": "ipython",
    "version": 3
   },
   "file_extension": ".py",
   "mimetype": "text/x-python",
   "name": "python",
   "nbconvert_exporter": "python",
   "pygments_lexer": "ipython3",
   "version": "3.11.4"
  }
 },
 "nbformat": 4,
 "nbformat_minor": 5
}
