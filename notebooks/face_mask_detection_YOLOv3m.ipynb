{
  "nbformat": 4,
  "nbformat_minor": 0,
  "metadata": {
    "colab": {
      "provenance": [],
      "toc_visible": true
    },
    "kernelspec": {
      "name": "python3",
      "display_name": "Python 3"
    },
    "language_info": {
      "name": "python"
    }
  },
  "cells": [
    {
      "cell_type": "markdown",
      "source": [
        "# ***Train custom Face Mask Detector by YOLOv3m***\n",
        "\n",
        "We will train the custom YOLO detector for Mask detection on the Face and save to the ONNX format for production using."
      ],
      "metadata": {
        "id": "EsU-9Teby3te"
      }
    },
    {
      "cell_type": "markdown",
      "source": [
        "### ***Check GPU resources***"
      ],
      "metadata": {
        "id": "3Uk0btiw4Lw2"
      }
    },
    {
      "cell_type": "code",
      "source": [
        "!nvidia-smi"
      ],
      "metadata": {
        "id": "RHavpwcQ4MGV"
      },
      "execution_count": null,
      "outputs": []
    },
    {
      "cell_type": "markdown",
      "source": [
        "### ***Install libraries***"
      ],
      "metadata": {
        "id": "VAzKyzLwzuTA"
      }
    },
    {
      "cell_type": "code",
      "execution_count": null,
      "metadata": {
        "id": "RArZ_jCsu5il"
      },
      "outputs": [],
      "source": [
        "!pip install ultralytics onnx onnxruntime"
      ]
    },
    {
      "cell_type": "markdown",
      "source": [
        "## ***Assignment***\n",
        "\n",
        "# Introduction\n",
        "\n",
        "## Project content\n",
        "1. Overview\n",
        "2. Expected Output\n",
        "3. Data\n",
        "4. Task\n",
        "5. Submission\n",
        "6. Marks Distribution\n",
        "\n",
        "## ***1. Overview***\n",
        "\n",
        "In the last lesson, we have learned how to train a custom Object Detector using YOLO v3 network for a single object. In this project, you will extend that learning by building a 2-Class Object Detector using Yolo v3 as well as the more recent Yolo v4. In the process, you will also learn how to browse other GitHub repositories and find out relevant information to complete your task.\n",
        "\n",
        "Since Covid-19 has had such a huge impact on our lives, we will build a Mask and No-mask Detector. So, the classes are:\n",
        "\n",
        "- Class 0 - Face with Mask\n",
        "- Class 1 - Face without Mask\n",
        "\n",
        "## ***2. Expected Output***\n",
        "\n",
        "Given below are the expected outputs of the test images and videos.\n",
        "\n",
        "<center><img src=\"https://github.com/RadimKozl/OpenCV_Project4/blob/main/img/test-image1-sol.png?raw=1\" alt=\"Test Image1\" style=\"width: 800px;\"/></center>\n",
        "<center><img src=\"https://github.com/RadimKozl/OpenCV_Project4/blob/main/img/test-image2-sol.png?raw=1\" alt=\"Test Image2\" style=\"width: 800px;\"/></center>\n",
        "<center><img src=\"https://github.com/RadimKozl/OpenCV_Project4/blob/main/img/test-image3-sol.png?raw=1\" alt=\"Test Image3\" style=\"width: 800px;\"/></center>\n",
        "<center><img src=\"https://github.com/RadimKozl/OpenCV_Project4/blob/main/img/test-image4-sol.png?raw=1\" alt=\"Test Image4\" style=\"width: 800px;\"/></center>\n",
        "\n",
        "----------------------------------------------------------\n",
        "\n",
        "### **Video**\n",
        "\n",
        "<center><iframe width=\"420\" height=\"315\" src=\"https://www.youtube.com/watch?v=1982JxViLig\"></iframe> </center>\n",
        "\n"
      ],
      "metadata": {
        "id": "dmdLgVRy0Hz-"
      }
    },
    {
      "cell_type": "code",
      "source": [],
      "metadata": {
        "id": "z6Dbc79Ay29g"
      },
      "execution_count": null,
      "outputs": []
    }
  ]
}